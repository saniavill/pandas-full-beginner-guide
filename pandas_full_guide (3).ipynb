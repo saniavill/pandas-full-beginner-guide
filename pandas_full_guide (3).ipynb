{
 "cells": [
  {
   "cell_type": "markdown",
   "id": "4f1c9a3d-a90d-40e5-bc4b-32d1f2b0de94",
   "metadata": {},
   "source": [
    "# PANDAS FULL GUIDE 1.1\n",
    "## THE BASICS"
   ]
  },
  {
   "cell_type": "markdown",
   "id": "8bcfa30d-251a-4a6a-88dd-66a77744caea",
   "metadata": {},
   "source": [
    "In this guide, we will explore the fundamental concepts and basics of the Pandas library. I hope you find this resource valuable. Should you have any questions or feedback, please feel free to contact me at [sania.latifia@gmail.com](mailto:sania.latifia@gmail.com)."
   ]
  },
  {
   "cell_type": "markdown",
   "id": "b2b87c6b-8e38-4f45-872d-a0d8d244246c",
   "metadata": {},
   "source": [
    "In this tutorial our example is going to be a database of Top 20 Movies on IMDB"
   ]
  },
  {
   "cell_type": "markdown",
   "id": "2e321cc5-813d-4790-afd5-d4dccb2d8b20",
   "metadata": {},
   "source": [
    "Before we begin, it is important to familiarize yourself with certain parameters as we will be introducing various methods and their syntax:<br>\n",
    "* ```index :  row label```\n",
    "* ```col :  column label```\n",
    "* ```value :  scalar value```\n",
    "* ```takeable :   interpret the index/col as indexers, default False```"
   ]
  },
  {
   "cell_type": "markdown",
   "id": "5180d206-aa76-4bbc-8972-8428ad624fc2",
   "metadata": {},
   "source": [
    "***"
   ]
  },
  {
   "cell_type": "markdown",
   "id": "756da63c-5b51-4da0-bd68-d8e573006ffc",
   "metadata": {},
   "source": [
    "### Import Pandas"
   ]
  },
  {
   "cell_type": "code",
   "execution_count": 57,
   "id": "ae820cf4-8cdb-4b54-aa89-1beb71bbf13c",
   "metadata": {},
   "outputs": [],
   "source": [
    "import pandas as pd"
   ]
  },
  {
   "cell_type": "code",
   "execution_count": 58,
   "id": "2793ace5-23ed-40e3-a273-451d12776d4c",
   "metadata": {},
   "outputs": [],
   "source": [
    "top_20_imdb = {'movie' : ['The Lord of The Rings', 'The Shawshank Redemption', 'Gladiator', 'Untouchable', 'Forrest Gump', 'The Lord of the Rings: The Return of the King', 'The Prestige', 'The Dark Knight', 'The Godfather', 'The Matrix', \"Schindler's List\", 'Seven', 'The Green Mile', 'Interstellar', 'Bridge of Spies', 'Murder on the Orient Express', 'V For Vendetta', 'Life Is Beautiful', 'The Silence of the Lambs', 'Back to the Future'],\n",
    "              'director' : ['Peter Jackson', 'Frank Darabont', 'Ridley Scott', 'Olivier Nakache', 'Robert Zemeckis', 'Peter Jackson', 'Christopher Nolan', 'Christopher Nolan', 'Francis Ford Coppola', 'Lana Wachowski', 'Steven Spielberg', 'David Fincher', 'Frank Darabont', 'Christopher Nolan', 'Steven Spielberg', 'Kenneth Branagh', 'James McTeigue', 'Roberto Benigni', 'Jonathan Demme', 'Robert Zemeckis'],\n",
    "              'rating' : [8.9, 9.3, 8.5, 8.5, 8.8, 9.0, 8.5, 9.0, 9.2, 8.7, 9.0, 8.6, 8.6, 8.7, 7.6, 6.5, 8.1, 8.6, 8.6, 8.5],\n",
    "              'genre' : ['Fantasy', 'Drama', 'Action', 'Comedy', 'Romance', 'Fantasy', 'Thriller', 'Crime', 'Gangster', 'Sci-Fi', 'Biography', 'Crime', 'Mystery', 'Sci-Fi', 'Drama', 'Thriller', 'Sci-Fi', 'Romance', 'Crime', 'Comedy']}"
   ]
  },
  {
   "cell_type": "code",
   "execution_count": 59,
   "id": "804effa8-6cd3-47e0-b61b-0a66d13b9736",
   "metadata": {},
   "outputs": [
    {
     "data": {
      "text/html": [
       "<div>\n",
       "<style scoped>\n",
       "    .dataframe tbody tr th:only-of-type {\n",
       "        vertical-align: middle;\n",
       "    }\n",
       "\n",
       "    .dataframe tbody tr th {\n",
       "        vertical-align: top;\n",
       "    }\n",
       "\n",
       "    .dataframe thead th {\n",
       "        text-align: right;\n",
       "    }\n",
       "</style>\n",
       "<table border=\"1\" class=\"dataframe\">\n",
       "  <thead>\n",
       "    <tr style=\"text-align: right;\">\n",
       "      <th></th>\n",
       "      <th>movie</th>\n",
       "      <th>director</th>\n",
       "      <th>rating</th>\n",
       "      <th>genre</th>\n",
       "    </tr>\n",
       "  </thead>\n",
       "  <tbody>\n",
       "    <tr>\n",
       "      <th>0</th>\n",
       "      <td>The Lord of The Rings</td>\n",
       "      <td>Peter Jackson</td>\n",
       "      <td>8.9</td>\n",
       "      <td>Fantasy</td>\n",
       "    </tr>\n",
       "    <tr>\n",
       "      <th>1</th>\n",
       "      <td>The Shawshank Redemption</td>\n",
       "      <td>Frank Darabont</td>\n",
       "      <td>9.3</td>\n",
       "      <td>Drama</td>\n",
       "    </tr>\n",
       "    <tr>\n",
       "      <th>2</th>\n",
       "      <td>Gladiator</td>\n",
       "      <td>Ridley Scott</td>\n",
       "      <td>8.5</td>\n",
       "      <td>Action</td>\n",
       "    </tr>\n",
       "    <tr>\n",
       "      <th>3</th>\n",
       "      <td>Untouchable</td>\n",
       "      <td>Olivier Nakache</td>\n",
       "      <td>8.5</td>\n",
       "      <td>Comedy</td>\n",
       "    </tr>\n",
       "    <tr>\n",
       "      <th>4</th>\n",
       "      <td>Forrest Gump</td>\n",
       "      <td>Robert Zemeckis</td>\n",
       "      <td>8.8</td>\n",
       "      <td>Romance</td>\n",
       "    </tr>\n",
       "    <tr>\n",
       "      <th>5</th>\n",
       "      <td>The Lord of the Rings: The Return of the King</td>\n",
       "      <td>Peter Jackson</td>\n",
       "      <td>9.0</td>\n",
       "      <td>Fantasy</td>\n",
       "    </tr>\n",
       "    <tr>\n",
       "      <th>6</th>\n",
       "      <td>The Prestige</td>\n",
       "      <td>Christopher Nolan</td>\n",
       "      <td>8.5</td>\n",
       "      <td>Thriller</td>\n",
       "    </tr>\n",
       "    <tr>\n",
       "      <th>7</th>\n",
       "      <td>The Dark Knight</td>\n",
       "      <td>Christopher Nolan</td>\n",
       "      <td>9.0</td>\n",
       "      <td>Crime</td>\n",
       "    </tr>\n",
       "    <tr>\n",
       "      <th>8</th>\n",
       "      <td>The Godfather</td>\n",
       "      <td>Francis Ford Coppola</td>\n",
       "      <td>9.2</td>\n",
       "      <td>Gangster</td>\n",
       "    </tr>\n",
       "    <tr>\n",
       "      <th>9</th>\n",
       "      <td>The Matrix</td>\n",
       "      <td>Lana Wachowski</td>\n",
       "      <td>8.7</td>\n",
       "      <td>Sci-Fi</td>\n",
       "    </tr>\n",
       "    <tr>\n",
       "      <th>10</th>\n",
       "      <td>Schindler's List</td>\n",
       "      <td>Steven Spielberg</td>\n",
       "      <td>9.0</td>\n",
       "      <td>Biography</td>\n",
       "    </tr>\n",
       "    <tr>\n",
       "      <th>11</th>\n",
       "      <td>Seven</td>\n",
       "      <td>David Fincher</td>\n",
       "      <td>8.6</td>\n",
       "      <td>Crime</td>\n",
       "    </tr>\n",
       "    <tr>\n",
       "      <th>12</th>\n",
       "      <td>The Green Mile</td>\n",
       "      <td>Frank Darabont</td>\n",
       "      <td>8.6</td>\n",
       "      <td>Mystery</td>\n",
       "    </tr>\n",
       "    <tr>\n",
       "      <th>13</th>\n",
       "      <td>Interstellar</td>\n",
       "      <td>Christopher Nolan</td>\n",
       "      <td>8.7</td>\n",
       "      <td>Sci-Fi</td>\n",
       "    </tr>\n",
       "    <tr>\n",
       "      <th>14</th>\n",
       "      <td>Bridge of Spies</td>\n",
       "      <td>Steven Spielberg</td>\n",
       "      <td>7.6</td>\n",
       "      <td>Drama</td>\n",
       "    </tr>\n",
       "    <tr>\n",
       "      <th>15</th>\n",
       "      <td>Murder on the Orient Express</td>\n",
       "      <td>Kenneth Branagh</td>\n",
       "      <td>6.5</td>\n",
       "      <td>Thriller</td>\n",
       "    </tr>\n",
       "    <tr>\n",
       "      <th>16</th>\n",
       "      <td>V For Vendetta</td>\n",
       "      <td>James McTeigue</td>\n",
       "      <td>8.1</td>\n",
       "      <td>Sci-Fi</td>\n",
       "    </tr>\n",
       "    <tr>\n",
       "      <th>17</th>\n",
       "      <td>Life Is Beautiful</td>\n",
       "      <td>Roberto Benigni</td>\n",
       "      <td>8.6</td>\n",
       "      <td>Romance</td>\n",
       "    </tr>\n",
       "    <tr>\n",
       "      <th>18</th>\n",
       "      <td>The Silence of the Lambs</td>\n",
       "      <td>Jonathan Demme</td>\n",
       "      <td>8.6</td>\n",
       "      <td>Crime</td>\n",
       "    </tr>\n",
       "    <tr>\n",
       "      <th>19</th>\n",
       "      <td>Back to the Future</td>\n",
       "      <td>Robert Zemeckis</td>\n",
       "      <td>8.5</td>\n",
       "      <td>Comedy</td>\n",
       "    </tr>\n",
       "  </tbody>\n",
       "</table>\n",
       "</div>"
      ],
      "text/plain": [
       "                                            movie              director  \\\n",
       "0                           The Lord of The Rings         Peter Jackson   \n",
       "1                        The Shawshank Redemption        Frank Darabont   \n",
       "2                                       Gladiator          Ridley Scott   \n",
       "3                                     Untouchable       Olivier Nakache   \n",
       "4                                    Forrest Gump       Robert Zemeckis   \n",
       "5   The Lord of the Rings: The Return of the King         Peter Jackson   \n",
       "6                                    The Prestige     Christopher Nolan   \n",
       "7                                 The Dark Knight     Christopher Nolan   \n",
       "8                                   The Godfather  Francis Ford Coppola   \n",
       "9                                      The Matrix        Lana Wachowski   \n",
       "10                               Schindler's List      Steven Spielberg   \n",
       "11                                          Seven         David Fincher   \n",
       "12                                 The Green Mile        Frank Darabont   \n",
       "13                                   Interstellar     Christopher Nolan   \n",
       "14                                Bridge of Spies      Steven Spielberg   \n",
       "15                   Murder on the Orient Express       Kenneth Branagh   \n",
       "16                                 V For Vendetta        James McTeigue   \n",
       "17                              Life Is Beautiful       Roberto Benigni   \n",
       "18                       The Silence of the Lambs        Jonathan Demme   \n",
       "19                             Back to the Future       Robert Zemeckis   \n",
       "\n",
       "    rating      genre  \n",
       "0      8.9    Fantasy  \n",
       "1      9.3      Drama  \n",
       "2      8.5     Action  \n",
       "3      8.5     Comedy  \n",
       "4      8.8    Romance  \n",
       "5      9.0    Fantasy  \n",
       "6      8.5   Thriller  \n",
       "7      9.0      Crime  \n",
       "8      9.2   Gangster  \n",
       "9      8.7     Sci-Fi  \n",
       "10     9.0  Biography  \n",
       "11     8.6      Crime  \n",
       "12     8.6    Mystery  \n",
       "13     8.7     Sci-Fi  \n",
       "14     7.6      Drama  \n",
       "15     6.5   Thriller  \n",
       "16     8.1     Sci-Fi  \n",
       "17     8.6    Romance  \n",
       "18     8.6      Crime  \n",
       "19     8.5     Comedy  "
      ]
     },
     "execution_count": 59,
     "metadata": {},
     "output_type": "execute_result"
    }
   ],
   "source": [
    "df = pd.DataFrame(top_20_imdb)\n",
    "df"
   ]
  },
  {
   "cell_type": "markdown",
   "id": "840d19c6-60c9-4138-a10e-bd474229c8a6",
   "metadata": {},
   "source": [
    "The code above displays a table created using Pandas' `DataFrame()` method, which accepts a dictionary as a data argument. To specify labels as indices, you can include an 'index' attribute, as illustrated below:"
   ]
  },
  {
   "cell_type": "code",
   "execution_count": 60,
   "id": "30608508-023f-4357-afec-8effad2353c0",
   "metadata": {},
   "outputs": [
    {
     "data": {
      "text/html": [
       "<div>\n",
       "<style scoped>\n",
       "    .dataframe tbody tr th:only-of-type {\n",
       "        vertical-align: middle;\n",
       "    }\n",
       "\n",
       "    .dataframe tbody tr th {\n",
       "        vertical-align: top;\n",
       "    }\n",
       "\n",
       "    .dataframe thead th {\n",
       "        text-align: right;\n",
       "    }\n",
       "</style>\n",
       "<table border=\"1\" class=\"dataframe\">\n",
       "  <thead>\n",
       "    <tr style=\"text-align: right;\">\n",
       "      <th></th>\n",
       "      <th>movie</th>\n",
       "      <th>director</th>\n",
       "      <th>rating</th>\n",
       "      <th>genre</th>\n",
       "    </tr>\n",
       "  </thead>\n",
       "  <tbody>\n",
       "    <tr>\n",
       "      <th>a</th>\n",
       "      <td>The Lord of The Rings</td>\n",
       "      <td>Peter Jackson</td>\n",
       "      <td>8.9</td>\n",
       "      <td>Fantasy</td>\n",
       "    </tr>\n",
       "    <tr>\n",
       "      <th>b</th>\n",
       "      <td>The Shawshank Redemption</td>\n",
       "      <td>Frank Darabont</td>\n",
       "      <td>9.3</td>\n",
       "      <td>Drama</td>\n",
       "    </tr>\n",
       "    <tr>\n",
       "      <th>c</th>\n",
       "      <td>Gladiator</td>\n",
       "      <td>Ridley Scott</td>\n",
       "      <td>8.5</td>\n",
       "      <td>Action</td>\n",
       "    </tr>\n",
       "    <tr>\n",
       "      <th>d</th>\n",
       "      <td>Untouchable</td>\n",
       "      <td>Olivier Nakache</td>\n",
       "      <td>8.5</td>\n",
       "      <td>Comedy</td>\n",
       "    </tr>\n",
       "    <tr>\n",
       "      <th>e</th>\n",
       "      <td>Forrest Gump</td>\n",
       "      <td>Robert Zemeckis</td>\n",
       "      <td>8.8</td>\n",
       "      <td>Romance</td>\n",
       "    </tr>\n",
       "  </tbody>\n",
       "</table>\n",
       "</div>"
      ],
      "text/plain": [
       "                      movie         director  rating    genre\n",
       "a     The Lord of The Rings    Peter Jackson     8.9  Fantasy\n",
       "b  The Shawshank Redemption   Frank Darabont     9.3    Drama\n",
       "c                 Gladiator     Ridley Scott     8.5   Action\n",
       "d               Untouchable  Olivier Nakache     8.5   Comedy\n",
       "e              Forrest Gump  Robert Zemeckis     8.8  Romance"
      ]
     },
     "execution_count": 60,
     "metadata": {},
     "output_type": "execute_result"
    }
   ],
   "source": [
    "lables = ['a', 'b', 'c', 'd', 'e', 'f', 'g', 'h', 'i', 'g', 'k', 'l', 'm', 'n', 'o', 'p', 'q', 'r', 's', 't']\n",
    "df = pd.DataFrame(top_20_imdb, index=lables)\n",
    "df.head() # Using the head() method to display the first five rows only.\n",
    "# You can cusotmize this value by changing it in the parantheses. for example head(3) will give you the first three rows"
   ]
  },
  {
   "cell_type": "markdown",
   "id": "63ca9da1-30e4-42a6-9e5f-7f0045995ab5",
   "metadata": {},
   "source": [
    "For the sake of this guide we will stick to the first DataFrame."
   ]
  },
  {
   "cell_type": "code",
   "execution_count": 61,
   "id": "06090a9c-01e8-4ebf-a7df-5e79087cea61",
   "metadata": {},
   "outputs": [
    {
     "data": {
      "text/html": [
       "<div>\n",
       "<style scoped>\n",
       "    .dataframe tbody tr th:only-of-type {\n",
       "        vertical-align: middle;\n",
       "    }\n",
       "\n",
       "    .dataframe tbody tr th {\n",
       "        vertical-align: top;\n",
       "    }\n",
       "\n",
       "    .dataframe thead th {\n",
       "        text-align: right;\n",
       "    }\n",
       "</style>\n",
       "<table border=\"1\" class=\"dataframe\">\n",
       "  <thead>\n",
       "    <tr style=\"text-align: right;\">\n",
       "      <th></th>\n",
       "      <th>movie</th>\n",
       "      <th>director</th>\n",
       "      <th>rating</th>\n",
       "      <th>genre</th>\n",
       "    </tr>\n",
       "  </thead>\n",
       "  <tbody>\n",
       "    <tr>\n",
       "      <th>0</th>\n",
       "      <td>The Lord of The Rings</td>\n",
       "      <td>Peter Jackson</td>\n",
       "      <td>8.9</td>\n",
       "      <td>Fantasy</td>\n",
       "    </tr>\n",
       "    <tr>\n",
       "      <th>1</th>\n",
       "      <td>The Shawshank Redemption</td>\n",
       "      <td>Frank Darabont</td>\n",
       "      <td>9.3</td>\n",
       "      <td>Drama</td>\n",
       "    </tr>\n",
       "    <tr>\n",
       "      <th>2</th>\n",
       "      <td>Gladiator</td>\n",
       "      <td>Ridley Scott</td>\n",
       "      <td>8.5</td>\n",
       "      <td>Action</td>\n",
       "    </tr>\n",
       "    <tr>\n",
       "      <th>3</th>\n",
       "      <td>Untouchable</td>\n",
       "      <td>Olivier Nakache</td>\n",
       "      <td>8.5</td>\n",
       "      <td>Comedy</td>\n",
       "    </tr>\n",
       "    <tr>\n",
       "      <th>4</th>\n",
       "      <td>Forrest Gump</td>\n",
       "      <td>Robert Zemeckis</td>\n",
       "      <td>8.8</td>\n",
       "      <td>Romance</td>\n",
       "    </tr>\n",
       "  </tbody>\n",
       "</table>\n",
       "</div>"
      ],
      "text/plain": [
       "                      movie         director  rating    genre\n",
       "0     The Lord of The Rings    Peter Jackson     8.9  Fantasy\n",
       "1  The Shawshank Redemption   Frank Darabont     9.3    Drama\n",
       "2                 Gladiator     Ridley Scott     8.5   Action\n",
       "3               Untouchable  Olivier Nakache     8.5   Comedy\n",
       "4              Forrest Gump  Robert Zemeckis     8.8  Romance"
      ]
     },
     "execution_count": 61,
     "metadata": {},
     "output_type": "execute_result"
    }
   ],
   "source": [
    "df = pd.DataFrame(top_20_imdb)\n",
    "df.head()"
   ]
  },
  {
   "cell_type": "markdown",
   "id": "78bf16e8-2987-49ef-ab12-64c121f782a8",
   "metadata": {},
   "source": [
    "For each type of file there's a method in pandas to create a dataframe:\n",
    "* `CSV FILES` -> `read_csv('filename.csv')`\n",
    "* `EXCEL` -> `read_excel('filename.xlsx')`\n",
    "* `PARQUET` -> `read_parquet('filename.parquet')`\n",
    "* `FEATHER` -> `read_feather('filename.feather')`\n",
    "<br> Similarily, you can convert your dataframe to any format using pandas' `to_csv`, `to_excel`, `to_parquet`, etc."
   ]
  },
  {
   "cell_type": "markdown",
   "id": "8572999c-8a66-4a31-a3f2-8c1507414016",
   "metadata": {},
   "source": [
    "We can select various sections of our DataFrame. In the following code, we are selecting the `'movie'` column along with the `'rating'` column to display each movie and its corresponding rating."
   ]
  },
  {
   "cell_type": "code",
   "execution_count": 62,
   "id": "a913cd43-fe46-4888-9f8d-756de98c6138",
   "metadata": {},
   "outputs": [
    {
     "data": {
      "text/html": [
       "<div>\n",
       "<style scoped>\n",
       "    .dataframe tbody tr th:only-of-type {\n",
       "        vertical-align: middle;\n",
       "    }\n",
       "\n",
       "    .dataframe tbody tr th {\n",
       "        vertical-align: top;\n",
       "    }\n",
       "\n",
       "    .dataframe thead th {\n",
       "        text-align: right;\n",
       "    }\n",
       "</style>\n",
       "<table border=\"1\" class=\"dataframe\">\n",
       "  <thead>\n",
       "    <tr style=\"text-align: right;\">\n",
       "      <th></th>\n",
       "      <th>movie</th>\n",
       "      <th>rating</th>\n",
       "    </tr>\n",
       "  </thead>\n",
       "  <tbody>\n",
       "    <tr>\n",
       "      <th>0</th>\n",
       "      <td>The Lord of The Rings</td>\n",
       "      <td>8.9</td>\n",
       "    </tr>\n",
       "    <tr>\n",
       "      <th>1</th>\n",
       "      <td>The Shawshank Redemption</td>\n",
       "      <td>9.3</td>\n",
       "    </tr>\n",
       "    <tr>\n",
       "      <th>2</th>\n",
       "      <td>Gladiator</td>\n",
       "      <td>8.5</td>\n",
       "    </tr>\n",
       "    <tr>\n",
       "      <th>3</th>\n",
       "      <td>Untouchable</td>\n",
       "      <td>8.5</td>\n",
       "    </tr>\n",
       "    <tr>\n",
       "      <th>4</th>\n",
       "      <td>Forrest Gump</td>\n",
       "      <td>8.8</td>\n",
       "    </tr>\n",
       "  </tbody>\n",
       "</table>\n",
       "</div>"
      ],
      "text/plain": [
       "                      movie  rating\n",
       "0     The Lord of The Rings     8.9\n",
       "1  The Shawshank Redemption     9.3\n",
       "2                 Gladiator     8.5\n",
       "3               Untouchable     8.5\n",
       "4              Forrest Gump     8.8"
      ]
     },
     "execution_count": 62,
     "metadata": {},
     "output_type": "execute_result"
    }
   ],
   "source": [
    "df[['movie', 'rating']].head()"
   ]
  },
  {
   "cell_type": "markdown",
   "id": "871db22f-bdf4-43d3-800d-494d1f149afa",
   "metadata": {},
   "source": [
    "There is a specific reason for using two brackets in the cell above: When selecting multiple columns for display, the column names must be placed inside a list and then enclosed within `df[]`. Using double brackets returns a DataFrame, while using single brackets for a single column returns that column as a Series."
   ]
  },
  {
   "cell_type": "markdown",
   "id": "ea84dabc-282b-4a98-bbca-b0fc8fc08350",
   "metadata": {},
   "source": [
    "#### Before we delve into data manipulation, it is important to understand how to gather information about our DataFrame."
   ]
  },
  {
   "cell_type": "code",
   "execution_count": 63,
   "id": "f97b4dab-9912-4a50-822c-292e3810d1e2",
   "metadata": {},
   "outputs": [
    {
     "name": "stdout",
     "output_type": "stream",
     "text": [
      "<class 'pandas.core.frame.DataFrame'>\n",
      "RangeIndex: 20 entries, 0 to 19\n",
      "Data columns (total 4 columns):\n",
      " #   Column    Non-Null Count  Dtype  \n",
      "---  ------    --------------  -----  \n",
      " 0   movie     20 non-null     object \n",
      " 1   director  20 non-null     object \n",
      " 2   rating    20 non-null     float64\n",
      " 3   genre     20 non-null     object \n",
      "dtypes: float64(1), object(3)\n",
      "memory usage: 772.0+ bytes\n"
     ]
    }
   ],
   "source": [
    "df.info()"
   ]
  },
  {
   "cell_type": "markdown",
   "id": "de54cc9e-dc11-40fa-94af-7ca4eace1358",
   "metadata": {},
   "source": [
    "#### The info() function gives us information about the datatype of the values inside each column.\n",
    "For example, in our movie DataFrame, the 'rating' column has a `float64` datatype. We can change this datatype to reduce memory usage. There are two approaches to achieve this:\n",
    "\n",
    "1. Change all columns' datatypes to `float32`. This method is effective for DataFrames where all columns consist solely of floats or integers. However, since our DataFrame also contains object datatypes, this approach would result in an error.\n",
    "\n",
    "2. Select only the columns that are of type `float64` and convert those specific columns."
   ]
  },
  {
   "cell_type": "code",
   "execution_count": 64,
   "id": "753af659-5624-4520-af47-baed1560f110",
   "metadata": {},
   "outputs": [],
   "source": [
    "float64_cols = list(df.select_dtypes(include='float64'))\n",
    "df[float64_cols] = df[float64_cols].astype('float32')"
   ]
  },
  {
   "cell_type": "markdown",
   "id": "5eb54894-4eaa-480d-a119-1faa08c47b39",
   "metadata": {},
   "source": [
    "We utilize the `list()` and `select_dtypes()` functions to create a list of all the data that are of type `float64`. In the subsequent line, we will select this list and employ the `astype()` function to convert the datatypes to `float32`."
   ]
  },
  {
   "cell_type": "code",
   "execution_count": 65,
   "id": "ddd26cd1-05c8-4497-a5e1-ab7c9bb23093",
   "metadata": {},
   "outputs": [
    {
     "name": "stdout",
     "output_type": "stream",
     "text": [
      "<class 'pandas.core.frame.DataFrame'>\n",
      "RangeIndex: 20 entries, 0 to 19\n",
      "Data columns (total 4 columns):\n",
      " #   Column    Non-Null Count  Dtype  \n",
      "---  ------    --------------  -----  \n",
      " 0   movie     20 non-null     object \n",
      " 1   director  20 non-null     object \n",
      " 2   rating    20 non-null     float32\n",
      " 3   genre     20 non-null     object \n",
      "dtypes: float32(1), object(3)\n",
      "memory usage: 692.0+ bytes\n"
     ]
    }
   ],
   "source": [
    "df.info()"
   ]
  },
  {
   "cell_type": "markdown",
   "id": "1b02a757-301c-4700-91ae-6d1a8373f169",
   "metadata": {},
   "source": [
    "As you can observe, our `'rating'` column has been updated to a `float32` data type, which has resulted in a slight reduction in memory usage for our dataframe."
   ]
  },
  {
   "cell_type": "markdown",
   "id": "b06f5461-bd26-46a8-95fd-c1db7b469700",
   "metadata": {},
   "source": [
    "#### LOC() AND ILOC()"
   ]
  },
  {
   "cell_type": "markdown",
   "id": "57ec0a7a-cdce-4631-a81d-b15ee0f393f4",
   "metadata": {},
   "source": [
    "To display specific sections of your DataFrame, one efficient approach is to utilize the `loc()` and `iloc()` functions in pandas. For instance, if we want to display only the first two rows and the first two columns, we can achieve this using the `loc()` function as follows:"
   ]
  },
  {
   "cell_type": "code",
   "execution_count": 66,
   "id": "a6a2d941-7636-4c35-a776-b12e27339988",
   "metadata": {},
   "outputs": [
    {
     "data": {
      "text/html": [
       "<div>\n",
       "<style scoped>\n",
       "    .dataframe tbody tr th:only-of-type {\n",
       "        vertical-align: middle;\n",
       "    }\n",
       "\n",
       "    .dataframe tbody tr th {\n",
       "        vertical-align: top;\n",
       "    }\n",
       "\n",
       "    .dataframe thead th {\n",
       "        text-align: right;\n",
       "    }\n",
       "</style>\n",
       "<table border=\"1\" class=\"dataframe\">\n",
       "  <thead>\n",
       "    <tr style=\"text-align: right;\">\n",
       "      <th></th>\n",
       "      <th>movie</th>\n",
       "      <th>genre</th>\n",
       "    </tr>\n",
       "  </thead>\n",
       "  <tbody>\n",
       "    <tr>\n",
       "      <th>0</th>\n",
       "      <td>The Lord of The Rings</td>\n",
       "      <td>Fantasy</td>\n",
       "    </tr>\n",
       "    <tr>\n",
       "      <th>1</th>\n",
       "      <td>The Shawshank Redemption</td>\n",
       "      <td>Drama</td>\n",
       "    </tr>\n",
       "  </tbody>\n",
       "</table>\n",
       "</div>"
      ],
      "text/plain": [
       "                      movie    genre\n",
       "0     The Lord of The Rings  Fantasy\n",
       "1  The Shawshank Redemption    Drama"
      ]
     },
     "execution_count": 66,
     "metadata": {},
     "output_type": "execute_result"
    }
   ],
   "source": [
    "df.loc[:1, ['movie', 'genre']]"
   ]
  },
  {
   "cell_type": "markdown",
   "id": "16cd4b15-52fd-4316-ad9f-752a9ce9f76b",
   "metadata": {},
   "source": [
    "Please note that when slicing with `loc()`, the end index is *inclusive*. \n",
    "\n",
    "**Important:** The `loc()` function in pandas is primarily label-based, meaning it operates using column names (labels) rather than numerical indices. Consequently, you cannot directly slice columns using their numerical indices with `loc`. However, you can slice rows in this manner.\n",
    "\n",
    "If you need to select columns by their position or through slicing, you should utilize `iloc()`. For example, to display the first five rows and all columns from 'director' to 'genre' (corresponding to indices 1 and 3), you can use the following approach:"
   ]
  },
  {
   "cell_type": "code",
   "execution_count": 67,
   "id": "0b76b86a-5ec4-4bcf-a2e7-365f4783270b",
   "metadata": {},
   "outputs": [
    {
     "data": {
      "text/html": [
       "<div>\n",
       "<style scoped>\n",
       "    .dataframe tbody tr th:only-of-type {\n",
       "        vertical-align: middle;\n",
       "    }\n",
       "\n",
       "    .dataframe tbody tr th {\n",
       "        vertical-align: top;\n",
       "    }\n",
       "\n",
       "    .dataframe thead th {\n",
       "        text-align: right;\n",
       "    }\n",
       "</style>\n",
       "<table border=\"1\" class=\"dataframe\">\n",
       "  <thead>\n",
       "    <tr style=\"text-align: right;\">\n",
       "      <th></th>\n",
       "      <th>director</th>\n",
       "      <th>rating</th>\n",
       "      <th>genre</th>\n",
       "    </tr>\n",
       "  </thead>\n",
       "  <tbody>\n",
       "    <tr>\n",
       "      <th>0</th>\n",
       "      <td>Peter Jackson</td>\n",
       "      <td>8.9</td>\n",
       "      <td>Fantasy</td>\n",
       "    </tr>\n",
       "    <tr>\n",
       "      <th>1</th>\n",
       "      <td>Frank Darabont</td>\n",
       "      <td>9.3</td>\n",
       "      <td>Drama</td>\n",
       "    </tr>\n",
       "    <tr>\n",
       "      <th>2</th>\n",
       "      <td>Ridley Scott</td>\n",
       "      <td>8.5</td>\n",
       "      <td>Action</td>\n",
       "    </tr>\n",
       "    <tr>\n",
       "      <th>3</th>\n",
       "      <td>Olivier Nakache</td>\n",
       "      <td>8.5</td>\n",
       "      <td>Comedy</td>\n",
       "    </tr>\n",
       "    <tr>\n",
       "      <th>4</th>\n",
       "      <td>Robert Zemeckis</td>\n",
       "      <td>8.8</td>\n",
       "      <td>Romance</td>\n",
       "    </tr>\n",
       "  </tbody>\n",
       "</table>\n",
       "</div>"
      ],
      "text/plain": [
       "          director  rating    genre\n",
       "0    Peter Jackson     8.9  Fantasy\n",
       "1   Frank Darabont     9.3    Drama\n",
       "2     Ridley Scott     8.5   Action\n",
       "3  Olivier Nakache     8.5   Comedy\n",
       "4  Robert Zemeckis     8.8  Romance"
      ]
     },
     "execution_count": 67,
     "metadata": {},
     "output_type": "execute_result"
    }
   ],
   "source": [
    "df.iloc[:5, 1:4]"
   ]
  },
  {
   "cell_type": "markdown",
   "id": "282582c6-15c9-4b87-a9c5-98247c76b513",
   "metadata": {},
   "source": [
    "As you can see in the code above, the end index in iloc() is exclusive. And you can use it to slice both columns and rows. But you can't use columns' labels to display them.<br>To summarize:\n",
    "* Use `loc()` for selecting columns by their names.\n",
    "* Use `iloc()` for slicing columns by integer positions."
   ]
  },
  {
   "cell_type": "markdown",
   "id": "906ca256-9c7e-41b5-aae6-99f16bbf5ee5",
   "metadata": {},
   "source": [
    "Let's say we want to replace the rating values of the first 4 rows to NaN:"
   ]
  },
  {
   "cell_type": "code",
   "execution_count": 68,
   "id": "bc50840d-f6d3-4ccc-87e0-eda0170116d2",
   "metadata": {},
   "outputs": [
    {
     "data": {
      "text/html": [
       "<div>\n",
       "<style scoped>\n",
       "    .dataframe tbody tr th:only-of-type {\n",
       "        vertical-align: middle;\n",
       "    }\n",
       "\n",
       "    .dataframe tbody tr th {\n",
       "        vertical-align: top;\n",
       "    }\n",
       "\n",
       "    .dataframe thead th {\n",
       "        text-align: right;\n",
       "    }\n",
       "</style>\n",
       "<table border=\"1\" class=\"dataframe\">\n",
       "  <thead>\n",
       "    <tr style=\"text-align: right;\">\n",
       "      <th></th>\n",
       "      <th>movie</th>\n",
       "      <th>director</th>\n",
       "      <th>rating</th>\n",
       "      <th>genre</th>\n",
       "    </tr>\n",
       "  </thead>\n",
       "  <tbody>\n",
       "    <tr>\n",
       "      <th>0</th>\n",
       "      <td>The Lord of The Rings</td>\n",
       "      <td>Peter Jackson</td>\n",
       "      <td>NaN</td>\n",
       "      <td>Fantasy</td>\n",
       "    </tr>\n",
       "    <tr>\n",
       "      <th>1</th>\n",
       "      <td>The Shawshank Redemption</td>\n",
       "      <td>Frank Darabont</td>\n",
       "      <td>NaN</td>\n",
       "      <td>Drama</td>\n",
       "    </tr>\n",
       "    <tr>\n",
       "      <th>2</th>\n",
       "      <td>Gladiator</td>\n",
       "      <td>Ridley Scott</td>\n",
       "      <td>NaN</td>\n",
       "      <td>Action</td>\n",
       "    </tr>\n",
       "    <tr>\n",
       "      <th>3</th>\n",
       "      <td>Untouchable</td>\n",
       "      <td>Olivier Nakache</td>\n",
       "      <td>NaN</td>\n",
       "      <td>Comedy</td>\n",
       "    </tr>\n",
       "    <tr>\n",
       "      <th>4</th>\n",
       "      <td>Forrest Gump</td>\n",
       "      <td>Robert Zemeckis</td>\n",
       "      <td>8.8</td>\n",
       "      <td>Romance</td>\n",
       "    </tr>\n",
       "  </tbody>\n",
       "</table>\n",
       "</div>"
      ],
      "text/plain": [
       "                      movie         director  rating    genre\n",
       "0     The Lord of The Rings    Peter Jackson     NaN  Fantasy\n",
       "1  The Shawshank Redemption   Frank Darabont     NaN    Drama\n",
       "2                 Gladiator     Ridley Scott     NaN   Action\n",
       "3               Untouchable  Olivier Nakache     NaN   Comedy\n",
       "4              Forrest Gump  Robert Zemeckis     8.8  Romance"
      ]
     },
     "execution_count": 68,
     "metadata": {},
     "output_type": "execute_result"
    }
   ],
   "source": [
    "import numpy as np\n",
    "df_copy = df.copy()\n",
    "df_copy.loc[:3, ['rating']] = np.nan\n",
    "df_copy.head()"
   ]
  },
  {
   "cell_type": "markdown",
   "id": "7e8e01de-755a-4be4-9079-7098ec3f19da",
   "metadata": {},
   "source": [
    "Now to re-fill NaN values, we use the `fillna()` method:"
   ]
  },
  {
   "cell_type": "code",
   "execution_count": 69,
   "id": "fc6ea49f-944d-492b-9434-20f9d207c6f0",
   "metadata": {},
   "outputs": [
    {
     "data": {
      "text/html": [
       "<div>\n",
       "<style scoped>\n",
       "    .dataframe tbody tr th:only-of-type {\n",
       "        vertical-align: middle;\n",
       "    }\n",
       "\n",
       "    .dataframe tbody tr th {\n",
       "        vertical-align: top;\n",
       "    }\n",
       "\n",
       "    .dataframe thead th {\n",
       "        text-align: right;\n",
       "    }\n",
       "</style>\n",
       "<table border=\"1\" class=\"dataframe\">\n",
       "  <thead>\n",
       "    <tr style=\"text-align: right;\">\n",
       "      <th></th>\n",
       "      <th>movie</th>\n",
       "      <th>director</th>\n",
       "      <th>rating</th>\n",
       "      <th>genre</th>\n",
       "    </tr>\n",
       "  </thead>\n",
       "  <tbody>\n",
       "    <tr>\n",
       "      <th>0</th>\n",
       "      <td>The Lord of The Rings</td>\n",
       "      <td>Peter Jackson</td>\n",
       "      <td>9.0</td>\n",
       "      <td>Fantasy</td>\n",
       "    </tr>\n",
       "    <tr>\n",
       "      <th>1</th>\n",
       "      <td>The Shawshank Redemption</td>\n",
       "      <td>Frank Darabont</td>\n",
       "      <td>9.0</td>\n",
       "      <td>Drama</td>\n",
       "    </tr>\n",
       "    <tr>\n",
       "      <th>2</th>\n",
       "      <td>Gladiator</td>\n",
       "      <td>Ridley Scott</td>\n",
       "      <td>9.0</td>\n",
       "      <td>Action</td>\n",
       "    </tr>\n",
       "    <tr>\n",
       "      <th>3</th>\n",
       "      <td>Untouchable</td>\n",
       "      <td>Olivier Nakache</td>\n",
       "      <td>9.0</td>\n",
       "      <td>Comedy</td>\n",
       "    </tr>\n",
       "    <tr>\n",
       "      <th>4</th>\n",
       "      <td>Forrest Gump</td>\n",
       "      <td>Robert Zemeckis</td>\n",
       "      <td>8.8</td>\n",
       "      <td>Romance</td>\n",
       "    </tr>\n",
       "  </tbody>\n",
       "</table>\n",
       "</div>"
      ],
      "text/plain": [
       "                      movie         director  rating    genre\n",
       "0     The Lord of The Rings    Peter Jackson     9.0  Fantasy\n",
       "1  The Shawshank Redemption   Frank Darabont     9.0    Drama\n",
       "2                 Gladiator     Ridley Scott     9.0   Action\n",
       "3               Untouchable  Olivier Nakache     9.0   Comedy\n",
       "4              Forrest Gump  Robert Zemeckis     8.8  Romance"
      ]
     },
     "execution_count": 69,
     "metadata": {},
     "output_type": "execute_result"
    }
   ],
   "source": [
    "df_copy = df_copy.fillna(9)\n",
    "df_copy.head()"
   ]
  },
  {
   "cell_type": "markdown",
   "id": "e72adb62-e05d-43b3-938f-0ba4cbb580e4",
   "metadata": {},
   "source": [
    "Let's get back to our original dataframe and get all the movies in which the rating in *between 6 and 8* (8 being exclusive):"
   ]
  },
  {
   "cell_type": "code",
   "execution_count": 70,
   "id": "256ee13f-b616-48cd-9536-22c15c1e6ddc",
   "metadata": {},
   "outputs": [
    {
     "data": {
      "text/html": [
       "<div>\n",
       "<style scoped>\n",
       "    .dataframe tbody tr th:only-of-type {\n",
       "        vertical-align: middle;\n",
       "    }\n",
       "\n",
       "    .dataframe tbody tr th {\n",
       "        vertical-align: top;\n",
       "    }\n",
       "\n",
       "    .dataframe thead th {\n",
       "        text-align: right;\n",
       "    }\n",
       "</style>\n",
       "<table border=\"1\" class=\"dataframe\">\n",
       "  <thead>\n",
       "    <tr style=\"text-align: right;\">\n",
       "      <th></th>\n",
       "      <th>movie</th>\n",
       "      <th>director</th>\n",
       "      <th>rating</th>\n",
       "      <th>genre</th>\n",
       "    </tr>\n",
       "  </thead>\n",
       "  <tbody>\n",
       "    <tr>\n",
       "      <th>14</th>\n",
       "      <td>Bridge of Spies</td>\n",
       "      <td>Steven Spielberg</td>\n",
       "      <td>7.6</td>\n",
       "      <td>Drama</td>\n",
       "    </tr>\n",
       "    <tr>\n",
       "      <th>15</th>\n",
       "      <td>Murder on the Orient Express</td>\n",
       "      <td>Kenneth Branagh</td>\n",
       "      <td>6.5</td>\n",
       "      <td>Thriller</td>\n",
       "    </tr>\n",
       "  </tbody>\n",
       "</table>\n",
       "</div>"
      ],
      "text/plain": [
       "                           movie          director  rating     genre\n",
       "14               Bridge of Spies  Steven Spielberg     7.6     Drama\n",
       "15  Murder on the Orient Express   Kenneth Branagh     6.5  Thriller"
      ]
     },
     "execution_count": 70,
     "metadata": {},
     "output_type": "execute_result"
    }
   ],
   "source": [
    "df_new = df.copy()\n",
    "df_new[df_new['rating'].between(6, 8)]"
   ]
  },
  {
   "cell_type": "markdown",
   "id": "101fd170-54a9-416b-9999-39e800be646d",
   "metadata": {},
   "source": [
    "Now how about we get all the movies in which the director is Christopher Nolan and the rating is higher than 8:"
   ]
  },
  {
   "cell_type": "code",
   "execution_count": 71,
   "id": "7fd64c35-c88e-4f27-b33b-21aef9b83dfc",
   "metadata": {},
   "outputs": [
    {
     "data": {
      "text/html": [
       "<div>\n",
       "<style scoped>\n",
       "    .dataframe tbody tr th:only-of-type {\n",
       "        vertical-align: middle;\n",
       "    }\n",
       "\n",
       "    .dataframe tbody tr th {\n",
       "        vertical-align: top;\n",
       "    }\n",
       "\n",
       "    .dataframe thead th {\n",
       "        text-align: right;\n",
       "    }\n",
       "</style>\n",
       "<table border=\"1\" class=\"dataframe\">\n",
       "  <thead>\n",
       "    <tr style=\"text-align: right;\">\n",
       "      <th></th>\n",
       "      <th>movie</th>\n",
       "      <th>director</th>\n",
       "      <th>rating</th>\n",
       "      <th>genre</th>\n",
       "    </tr>\n",
       "  </thead>\n",
       "  <tbody>\n",
       "    <tr>\n",
       "      <th>6</th>\n",
       "      <td>The Prestige</td>\n",
       "      <td>Christopher Nolan</td>\n",
       "      <td>8.5</td>\n",
       "      <td>Thriller</td>\n",
       "    </tr>\n",
       "    <tr>\n",
       "      <th>7</th>\n",
       "      <td>The Dark Knight</td>\n",
       "      <td>Christopher Nolan</td>\n",
       "      <td>9.0</td>\n",
       "      <td>Crime</td>\n",
       "    </tr>\n",
       "    <tr>\n",
       "      <th>13</th>\n",
       "      <td>Interstellar</td>\n",
       "      <td>Christopher Nolan</td>\n",
       "      <td>8.7</td>\n",
       "      <td>Sci-Fi</td>\n",
       "    </tr>\n",
       "  </tbody>\n",
       "</table>\n",
       "</div>"
      ],
      "text/plain": [
       "              movie           director  rating     genre\n",
       "6      The Prestige  Christopher Nolan     8.5  Thriller\n",
       "7   The Dark Knight  Christopher Nolan     9.0     Crime\n",
       "13     Interstellar  Christopher Nolan     8.7    Sci-Fi"
      ]
     },
     "execution_count": 71,
     "metadata": {},
     "output_type": "execute_result"
    }
   ],
   "source": [
    "df_new = df.copy()\n",
    "df_new[(df_new['director'] == 'Christopher Nolan') & (df_new['rating'] > 8)]"
   ]
  },
  {
   "cell_type": "markdown",
   "id": "d61718d9-5ea9-4dc1-b310-d2cf9d54b17b",
   "metadata": {},
   "source": [
    "If we were to change the order in which the columns appear, we could do the following:"
   ]
  },
  {
   "cell_type": "code",
   "execution_count": 72,
   "id": "fd701f84-affc-46c4-9055-f97db7f06bf9",
   "metadata": {},
   "outputs": [
    {
     "data": {
      "text/html": [
       "<div>\n",
       "<style scoped>\n",
       "    .dataframe tbody tr th:only-of-type {\n",
       "        vertical-align: middle;\n",
       "    }\n",
       "\n",
       "    .dataframe tbody tr th {\n",
       "        vertical-align: top;\n",
       "    }\n",
       "\n",
       "    .dataframe thead th {\n",
       "        text-align: right;\n",
       "    }\n",
       "</style>\n",
       "<table border=\"1\" class=\"dataframe\">\n",
       "  <thead>\n",
       "    <tr style=\"text-align: right;\">\n",
       "      <th></th>\n",
       "      <th>genre</th>\n",
       "      <th>rating</th>\n",
       "      <th>director</th>\n",
       "      <th>movie</th>\n",
       "    </tr>\n",
       "  </thead>\n",
       "  <tbody>\n",
       "    <tr>\n",
       "      <th>0</th>\n",
       "      <td>Fantasy</td>\n",
       "      <td>8.9</td>\n",
       "      <td>Peter Jackson</td>\n",
       "      <td>The Lord of The Rings</td>\n",
       "    </tr>\n",
       "    <tr>\n",
       "      <th>1</th>\n",
       "      <td>Drama</td>\n",
       "      <td>9.3</td>\n",
       "      <td>Frank Darabont</td>\n",
       "      <td>The Shawshank Redemption</td>\n",
       "    </tr>\n",
       "    <tr>\n",
       "      <th>2</th>\n",
       "      <td>Action</td>\n",
       "      <td>8.5</td>\n",
       "      <td>Ridley Scott</td>\n",
       "      <td>Gladiator</td>\n",
       "    </tr>\n",
       "    <tr>\n",
       "      <th>3</th>\n",
       "      <td>Comedy</td>\n",
       "      <td>8.5</td>\n",
       "      <td>Olivier Nakache</td>\n",
       "      <td>Untouchable</td>\n",
       "    </tr>\n",
       "    <tr>\n",
       "      <th>4</th>\n",
       "      <td>Romance</td>\n",
       "      <td>8.8</td>\n",
       "      <td>Robert Zemeckis</td>\n",
       "      <td>Forrest Gump</td>\n",
       "    </tr>\n",
       "  </tbody>\n",
       "</table>\n",
       "</div>"
      ],
      "text/plain": [
       "     genre  rating         director                     movie\n",
       "0  Fantasy     8.9    Peter Jackson     The Lord of The Rings\n",
       "1    Drama     9.3   Frank Darabont  The Shawshank Redemption\n",
       "2   Action     8.5     Ridley Scott                 Gladiator\n",
       "3   Comedy     8.5  Olivier Nakache               Untouchable\n",
       "4  Romance     8.8  Robert Zemeckis              Forrest Gump"
      ]
     },
     "execution_count": 72,
     "metadata": {},
     "output_type": "execute_result"
    }
   ],
   "source": [
    "df_new = df[['genre', 'rating', 'director', 'movie']]\n",
    "df_new.head()"
   ]
  },
  {
   "cell_type": "markdown",
   "id": "b92eb73a-e01d-4eb0-a613-a4201e4c0e0a",
   "metadata": {},
   "source": [
    "#### GROUPBY()\n",
    "_Syntax: DataFrame.groupby(by=None, axis=0, level=None, as_index=True, sort=True, group_keys=True, squeeze=False, **kwargs)_ <br><br>\n",
    "The groupby object is a _dictionary_ that groups a DataFrame by a specific column. for example we have a DataFrame of Top 20 Movies of All Time, and some of these movies have the same genres. If we were to organize this DataFrame by their genres, `groupby()` method would be an apt approach.<br> See the following example(Note that the number of rows in each group of `groupby()` object can be easily obtained using the function `.size()`, The method simply counts the number of rows in each group):"
   ]
  },
  {
   "cell_type": "code",
   "execution_count": 73,
   "id": "6b1a8605-8f3c-4367-b72a-b0c86a5ca5bf",
   "metadata": {},
   "outputs": [
    {
     "data": {
      "text/plain": [
       "genre\n",
       "Action       1\n",
       "Biography    1\n",
       "Comedy       2\n",
       "Crime        3\n",
       "Drama        2\n",
       "Fantasy      2\n",
       "Gangster     1\n",
       "Mystery      1\n",
       "Romance      2\n",
       "Sci-Fi       3\n",
       "Thriller     2\n",
       "dtype: int64"
      ]
     },
     "execution_count": 73,
     "metadata": {},
     "output_type": "execute_result"
    }
   ],
   "source": [
    "df_new = df.groupby(['genre']).size()\n",
    "df_new"
   ]
  },
  {
   "cell_type": "markdown",
   "id": "59135cc8-68da-4161-ad90-1ef0767a4283",
   "metadata": {},
   "source": [
    "You can see that what we get is a series of genres and the number of existing movies in our DataFrame with that genre.<br>Similar results can be obtained using an aggregate function `count()`: "
   ]
  },
  {
   "cell_type": "code",
   "execution_count": 74,
   "id": "871e6bb4-0336-463f-86ea-08a4bf442a30",
   "metadata": {},
   "outputs": [
    {
     "data": {
      "text/html": [
       "<div>\n",
       "<style scoped>\n",
       "    .dataframe tbody tr th:only-of-type {\n",
       "        vertical-align: middle;\n",
       "    }\n",
       "\n",
       "    .dataframe tbody tr th {\n",
       "        vertical-align: top;\n",
       "    }\n",
       "\n",
       "    .dataframe thead th {\n",
       "        text-align: right;\n",
       "    }\n",
       "</style>\n",
       "<table border=\"1\" class=\"dataframe\">\n",
       "  <thead>\n",
       "    <tr style=\"text-align: right;\">\n",
       "      <th></th>\n",
       "      <th>movie</th>\n",
       "      <th>director</th>\n",
       "      <th>rating</th>\n",
       "    </tr>\n",
       "    <tr>\n",
       "      <th>genre</th>\n",
       "      <th></th>\n",
       "      <th></th>\n",
       "      <th></th>\n",
       "    </tr>\n",
       "  </thead>\n",
       "  <tbody>\n",
       "    <tr>\n",
       "      <th>Action</th>\n",
       "      <td>1</td>\n",
       "      <td>1</td>\n",
       "      <td>1</td>\n",
       "    </tr>\n",
       "    <tr>\n",
       "      <th>Biography</th>\n",
       "      <td>1</td>\n",
       "      <td>1</td>\n",
       "      <td>1</td>\n",
       "    </tr>\n",
       "    <tr>\n",
       "      <th>Comedy</th>\n",
       "      <td>2</td>\n",
       "      <td>2</td>\n",
       "      <td>2</td>\n",
       "    </tr>\n",
       "    <tr>\n",
       "      <th>Crime</th>\n",
       "      <td>3</td>\n",
       "      <td>3</td>\n",
       "      <td>3</td>\n",
       "    </tr>\n",
       "    <tr>\n",
       "      <th>Drama</th>\n",
       "      <td>2</td>\n",
       "      <td>2</td>\n",
       "      <td>2</td>\n",
       "    </tr>\n",
       "    <tr>\n",
       "      <th>Fantasy</th>\n",
       "      <td>2</td>\n",
       "      <td>2</td>\n",
       "      <td>2</td>\n",
       "    </tr>\n",
       "    <tr>\n",
       "      <th>Gangster</th>\n",
       "      <td>1</td>\n",
       "      <td>1</td>\n",
       "      <td>1</td>\n",
       "    </tr>\n",
       "    <tr>\n",
       "      <th>Mystery</th>\n",
       "      <td>1</td>\n",
       "      <td>1</td>\n",
       "      <td>1</td>\n",
       "    </tr>\n",
       "    <tr>\n",
       "      <th>Romance</th>\n",
       "      <td>2</td>\n",
       "      <td>2</td>\n",
       "      <td>2</td>\n",
       "    </tr>\n",
       "    <tr>\n",
       "      <th>Sci-Fi</th>\n",
       "      <td>3</td>\n",
       "      <td>3</td>\n",
       "      <td>3</td>\n",
       "    </tr>\n",
       "    <tr>\n",
       "      <th>Thriller</th>\n",
       "      <td>2</td>\n",
       "      <td>2</td>\n",
       "      <td>2</td>\n",
       "    </tr>\n",
       "  </tbody>\n",
       "</table>\n",
       "</div>"
      ],
      "text/plain": [
       "           movie  director  rating\n",
       "genre                             \n",
       "Action         1         1       1\n",
       "Biography      1         1       1\n",
       "Comedy         2         2       2\n",
       "Crime          3         3       3\n",
       "Drama          2         2       2\n",
       "Fantasy        2         2       2\n",
       "Gangster       1         1       1\n",
       "Mystery        1         1       1\n",
       "Romance        2         2       2\n",
       "Sci-Fi         3         3       3\n",
       "Thriller       2         2       2"
      ]
     },
     "execution_count": 74,
     "metadata": {},
     "output_type": "execute_result"
    }
   ],
   "source": [
    "df_new = df.groupby(['genre']).count()\n",
    "df_new"
   ]
  },
  {
   "cell_type": "markdown",
   "id": "d6afc92b-a0b1-4091-a381-5c166a9105fc",
   "metadata": {},
   "source": [
    "The aggregate function `.count()` counts only the non-null values from each column, whereas `.size()` simply returns the number of rows available in each group irrespective of presence or absence of values. If you want to see how many non-null values are present in each column of each group, use `.count()`. Otherwise, use `.size()`."
   ]
  },
  {
   "cell_type": "markdown",
   "id": "49bd0b48-58ea-48a0-9916-2581ca5a63e4",
   "metadata": {},
   "source": [
    "A bit earlier we learned how to get all the rows where `'director'` is \"Christopher Nolan\", we did something similar to the follwing:"
   ]
  },
  {
   "cell_type": "code",
   "execution_count": 75,
   "id": "ded5e50e-9d11-4aa4-a0ef-8a0ff2f1a78e",
   "metadata": {},
   "outputs": [
    {
     "data": {
      "text/html": [
       "<div>\n",
       "<style scoped>\n",
       "    .dataframe tbody tr th:only-of-type {\n",
       "        vertical-align: middle;\n",
       "    }\n",
       "\n",
       "    .dataframe tbody tr th {\n",
       "        vertical-align: top;\n",
       "    }\n",
       "\n",
       "    .dataframe thead th {\n",
       "        text-align: right;\n",
       "    }\n",
       "</style>\n",
       "<table border=\"1\" class=\"dataframe\">\n",
       "  <thead>\n",
       "    <tr style=\"text-align: right;\">\n",
       "      <th></th>\n",
       "      <th>movie</th>\n",
       "      <th>director</th>\n",
       "      <th>rating</th>\n",
       "      <th>genre</th>\n",
       "    </tr>\n",
       "  </thead>\n",
       "  <tbody>\n",
       "    <tr>\n",
       "      <th>6</th>\n",
       "      <td>The Prestige</td>\n",
       "      <td>Christopher Nolan</td>\n",
       "      <td>8.5</td>\n",
       "      <td>Thriller</td>\n",
       "    </tr>\n",
       "    <tr>\n",
       "      <th>7</th>\n",
       "      <td>The Dark Knight</td>\n",
       "      <td>Christopher Nolan</td>\n",
       "      <td>9.0</td>\n",
       "      <td>Crime</td>\n",
       "    </tr>\n",
       "    <tr>\n",
       "      <th>13</th>\n",
       "      <td>Interstellar</td>\n",
       "      <td>Christopher Nolan</td>\n",
       "      <td>8.7</td>\n",
       "      <td>Sci-Fi</td>\n",
       "    </tr>\n",
       "  </tbody>\n",
       "</table>\n",
       "</div>"
      ],
      "text/plain": [
       "              movie           director  rating     genre\n",
       "6      The Prestige  Christopher Nolan     8.5  Thriller\n",
       "7   The Dark Knight  Christopher Nolan     9.0     Crime\n",
       "13     Interstellar  Christopher Nolan     8.7    Sci-Fi"
      ]
     },
     "execution_count": 75,
     "metadata": {},
     "output_type": "execute_result"
    }
   ],
   "source": [
    "df_new = df[df['director'] == 'Christopher Nolan']\n",
    "df_new"
   ]
  },
  {
   "cell_type": "markdown",
   "id": "382eb303-61cc-4587-b765-b877d834fa8e",
   "metadata": {},
   "source": [
    "We can do the exact thing using the ```.get_group()``` method<br>This method is more time-efficient. In fact, slicing with ```.groupby()``` and ```.get_group()``` is four times faster than with logical comparison."
   ]
  },
  {
   "cell_type": "code",
   "execution_count": 76,
   "id": "1416899a-f39f-439c-899c-8e1bb8f5bbf9",
   "metadata": {},
   "outputs": [
    {
     "data": {
      "text/html": [
       "<div>\n",
       "<style scoped>\n",
       "    .dataframe tbody tr th:only-of-type {\n",
       "        vertical-align: middle;\n",
       "    }\n",
       "\n",
       "    .dataframe tbody tr th {\n",
       "        vertical-align: top;\n",
       "    }\n",
       "\n",
       "    .dataframe thead th {\n",
       "        text-align: right;\n",
       "    }\n",
       "</style>\n",
       "<table border=\"1\" class=\"dataframe\">\n",
       "  <thead>\n",
       "    <tr style=\"text-align: right;\">\n",
       "      <th></th>\n",
       "      <th>movie</th>\n",
       "      <th>director</th>\n",
       "      <th>rating</th>\n",
       "      <th>genre</th>\n",
       "    </tr>\n",
       "  </thead>\n",
       "  <tbody>\n",
       "    <tr>\n",
       "      <th>6</th>\n",
       "      <td>The Prestige</td>\n",
       "      <td>Christopher Nolan</td>\n",
       "      <td>8.5</td>\n",
       "      <td>Thriller</td>\n",
       "    </tr>\n",
       "    <tr>\n",
       "      <th>7</th>\n",
       "      <td>The Dark Knight</td>\n",
       "      <td>Christopher Nolan</td>\n",
       "      <td>9.0</td>\n",
       "      <td>Crime</td>\n",
       "    </tr>\n",
       "    <tr>\n",
       "      <th>13</th>\n",
       "      <td>Interstellar</td>\n",
       "      <td>Christopher Nolan</td>\n",
       "      <td>8.7</td>\n",
       "      <td>Sci-Fi</td>\n",
       "    </tr>\n",
       "  </tbody>\n",
       "</table>\n",
       "</div>"
      ],
      "text/plain": [
       "              movie           director  rating     genre\n",
       "6      The Prestige  Christopher Nolan     8.5  Thriller\n",
       "7   The Dark Knight  Christopher Nolan     9.0     Crime\n",
       "13     Interstellar  Christopher Nolan     8.7    Sci-Fi"
      ]
     },
     "execution_count": 76,
     "metadata": {},
     "output_type": "execute_result"
    }
   ],
   "source": [
    "df_new = df.groupby('director')\n",
    "df_new.get_group('Christopher Nolan')"
   ]
  },
  {
   "cell_type": "markdown",
   "id": "831146d4-0811-4950-bbef-9427a9ecf3b1",
   "metadata": {},
   "source": [
    "#### AT[] and IAT[]\n",
    "Access a single value for a row/column pair by integer position.\n",
    "\n",
    "Similar to loc and iloc, in that both provide integer-based lookups. Use `at/iat` if you only need to get or set a single value in a DataFrame or Series.<br>\n",
    "Here, we want to access the genre of the row that has the index 1:"
   ]
  },
  {
   "cell_type": "code",
   "execution_count": 77,
   "id": "218a4e3b-01e1-44d0-b779-f5000e26680a",
   "metadata": {},
   "outputs": [
    {
     "data": {
      "text/html": [
       "<div>\n",
       "<style scoped>\n",
       "    .dataframe tbody tr th:only-of-type {\n",
       "        vertical-align: middle;\n",
       "    }\n",
       "\n",
       "    .dataframe tbody tr th {\n",
       "        vertical-align: top;\n",
       "    }\n",
       "\n",
       "    .dataframe thead th {\n",
       "        text-align: right;\n",
       "    }\n",
       "</style>\n",
       "<table border=\"1\" class=\"dataframe\">\n",
       "  <thead>\n",
       "    <tr style=\"text-align: right;\">\n",
       "      <th></th>\n",
       "      <th>movie</th>\n",
       "      <th>director</th>\n",
       "      <th>rating</th>\n",
       "      <th>genre</th>\n",
       "    </tr>\n",
       "  </thead>\n",
       "  <tbody>\n",
       "    <tr>\n",
       "      <th>0</th>\n",
       "      <td>The Lord of The Rings</td>\n",
       "      <td>Peter Jackson</td>\n",
       "      <td>8.9</td>\n",
       "      <td>Fantasy</td>\n",
       "    </tr>\n",
       "    <tr>\n",
       "      <th>1</th>\n",
       "      <td>The Shawshank Redemption</td>\n",
       "      <td>Frank Darabont</td>\n",
       "      <td>9.3</td>\n",
       "      <td>Drama</td>\n",
       "    </tr>\n",
       "    <tr>\n",
       "      <th>2</th>\n",
       "      <td>Gladiator</td>\n",
       "      <td>Ridley Scott</td>\n",
       "      <td>8.5</td>\n",
       "      <td>Action</td>\n",
       "    </tr>\n",
       "    <tr>\n",
       "      <th>3</th>\n",
       "      <td>Untouchable</td>\n",
       "      <td>Olivier Nakache</td>\n",
       "      <td>8.5</td>\n",
       "      <td>Comedy</td>\n",
       "    </tr>\n",
       "    <tr>\n",
       "      <th>4</th>\n",
       "      <td>Forrest Gump</td>\n",
       "      <td>Robert Zemeckis</td>\n",
       "      <td>8.8</td>\n",
       "      <td>Romance</td>\n",
       "    </tr>\n",
       "  </tbody>\n",
       "</table>\n",
       "</div>"
      ],
      "text/plain": [
       "                      movie         director  rating    genre\n",
       "0     The Lord of The Rings    Peter Jackson     8.9  Fantasy\n",
       "1  The Shawshank Redemption   Frank Darabont     9.3    Drama\n",
       "2                 Gladiator     Ridley Scott     8.5   Action\n",
       "3               Untouchable  Olivier Nakache     8.5   Comedy\n",
       "4              Forrest Gump  Robert Zemeckis     8.8  Romance"
      ]
     },
     "execution_count": 77,
     "metadata": {},
     "output_type": "execute_result"
    }
   ],
   "source": [
    "df.head()"
   ]
  },
  {
   "cell_type": "code",
   "execution_count": 78,
   "id": "5fc38175-11dd-49c2-9540-ec63070f9f3d",
   "metadata": {},
   "outputs": [
    {
     "data": {
      "text/plain": [
       "'Drama'"
      ]
     },
     "execution_count": 78,
     "metadata": {},
     "output_type": "execute_result"
    }
   ],
   "source": [
    "df_new = df.at[1, 'genre']\n",
    "df_new"
   ]
  },
  {
   "cell_type": "markdown",
   "id": "4acfee8f-aa97-43ee-ab1e-e27e6aaa7f26",
   "metadata": {},
   "source": [
    "Accessing the movie 'The Shawshank Redemption':"
   ]
  },
  {
   "cell_type": "code",
   "execution_count": 79,
   "id": "7ae676d5-7d3c-4aca-9d21-5af1ba17f22a",
   "metadata": {},
   "outputs": [
    {
     "data": {
      "text/plain": [
       "'The Shawshank Redemption'"
      ]
     },
     "execution_count": 79,
     "metadata": {},
     "output_type": "execute_result"
    }
   ],
   "source": [
    "df_new = df.iat[1, 0]\n",
    "df_new"
   ]
  },
  {
   "cell_type": "markdown",
   "id": "f2436045-8bb9-458b-8ef9-5488573f8c33",
   "metadata": {},
   "source": [
    "Now let's say we want to shuffle our rows. That's where we can use the ```sample()``` method. <br>_Syntax: DataFrame.sample(n=None, frac=None, replace=False, weights=None, random_state=None, axis=None, ignore_index=False)_<br><br> It essentially returns a random sample of items from an axis of object."
   ]
  },
  {
   "cell_type": "code",
   "execution_count": 80,
   "id": "2925c8ea-2431-4cc2-9706-119e03cd3d67",
   "metadata": {},
   "outputs": [
    {
     "data": {
      "text/html": [
       "<div>\n",
       "<style scoped>\n",
       "    .dataframe tbody tr th:only-of-type {\n",
       "        vertical-align: middle;\n",
       "    }\n",
       "\n",
       "    .dataframe tbody tr th {\n",
       "        vertical-align: top;\n",
       "    }\n",
       "\n",
       "    .dataframe thead th {\n",
       "        text-align: right;\n",
       "    }\n",
       "</style>\n",
       "<table border=\"1\" class=\"dataframe\">\n",
       "  <thead>\n",
       "    <tr style=\"text-align: right;\">\n",
       "      <th></th>\n",
       "      <th>movie</th>\n",
       "      <th>director</th>\n",
       "      <th>rating</th>\n",
       "      <th>genre</th>\n",
       "    </tr>\n",
       "  </thead>\n",
       "  <tbody>\n",
       "    <tr>\n",
       "      <th>11</th>\n",
       "      <td>Seven</td>\n",
       "      <td>David Fincher</td>\n",
       "      <td>8.6</td>\n",
       "      <td>Crime</td>\n",
       "    </tr>\n",
       "    <tr>\n",
       "      <th>1</th>\n",
       "      <td>The Shawshank Redemption</td>\n",
       "      <td>Frank Darabont</td>\n",
       "      <td>9.3</td>\n",
       "      <td>Drama</td>\n",
       "    </tr>\n",
       "    <tr>\n",
       "      <th>0</th>\n",
       "      <td>The Lord of The Rings</td>\n",
       "      <td>Peter Jackson</td>\n",
       "      <td>8.9</td>\n",
       "      <td>Fantasy</td>\n",
       "    </tr>\n",
       "    <tr>\n",
       "      <th>6</th>\n",
       "      <td>The Prestige</td>\n",
       "      <td>Christopher Nolan</td>\n",
       "      <td>8.5</td>\n",
       "      <td>Thriller</td>\n",
       "    </tr>\n",
       "    <tr>\n",
       "      <th>17</th>\n",
       "      <td>Life Is Beautiful</td>\n",
       "      <td>Roberto Benigni</td>\n",
       "      <td>8.6</td>\n",
       "      <td>Romance</td>\n",
       "    </tr>\n",
       "  </tbody>\n",
       "</table>\n",
       "</div>"
      ],
      "text/plain": [
       "                       movie           director  rating     genre\n",
       "11                     Seven      David Fincher     8.6     Crime\n",
       "1   The Shawshank Redemption     Frank Darabont     9.3     Drama\n",
       "0      The Lord of The Rings      Peter Jackson     8.9   Fantasy\n",
       "6               The Prestige  Christopher Nolan     8.5  Thriller\n",
       "17         Life Is Beautiful    Roberto Benigni     8.6   Romance"
      ]
     },
     "execution_count": 80,
     "metadata": {},
     "output_type": "execute_result"
    }
   ],
   "source": [
    "df_new = df.sample(frac=1)\n",
    "df_new.head()"
   ]
  },
  {
   "cell_type": "markdown",
   "id": "eaa0f280-2fc7-43e3-ba3f-abe65fdbd771",
   "metadata": {},
   "source": [
    "This approach can be beneficial in certain scenarios; however, for the purposes of this guide, we prefer to maintain an organized DataFrame. Therefore, we will focus on additional functionalities of the `sample()` method. Let’s explore how to extract four random elements from the Series `df['movie']`."
   ]
  },
  {
   "cell_type": "code",
   "execution_count": 81,
   "id": "d3831c1d-6985-4b73-86b6-78278f090091",
   "metadata": {},
   "outputs": [
    {
     "data": {
      "text/plain": [
       "3          Untouchable\n",
       "16      V For Vendetta\n",
       "6         The Prestige\n",
       "10    Schindler's List\n",
       "Name: movie, dtype: object"
      ]
     },
     "execution_count": 81,
     "metadata": {},
     "output_type": "execute_result"
    }
   ],
   "source": [
    "df_new = df['movie'].sample(n=4, random_state=1)\n",
    "df_new"
   ]
  },
  {
   "cell_type": "markdown",
   "id": "0ac6f9e5-08ab-43d9-9d60-9f8ffdeacba1",
   "metadata": {},
   "source": [
    "by using the parameter ```random_state```, we can generate the same random results each time the code is run. It's essentially to ensure the reproducibility of results.<br>Now, how about a random 50% sample of the DataFrame with replacement:"
   ]
  },
  {
   "cell_type": "code",
   "execution_count": 82,
   "id": "990e347e-d3af-4f1e-bf52-709300570608",
   "metadata": {},
   "outputs": [
    {
     "data": {
      "text/html": [
       "<div>\n",
       "<style scoped>\n",
       "    .dataframe tbody tr th:only-of-type {\n",
       "        vertical-align: middle;\n",
       "    }\n",
       "\n",
       "    .dataframe tbody tr th {\n",
       "        vertical-align: top;\n",
       "    }\n",
       "\n",
       "    .dataframe thead th {\n",
       "        text-align: right;\n",
       "    }\n",
       "</style>\n",
       "<table border=\"1\" class=\"dataframe\">\n",
       "  <thead>\n",
       "    <tr style=\"text-align: right;\">\n",
       "      <th></th>\n",
       "      <th>movie</th>\n",
       "      <th>director</th>\n",
       "      <th>rating</th>\n",
       "      <th>genre</th>\n",
       "    </tr>\n",
       "  </thead>\n",
       "  <tbody>\n",
       "    <tr>\n",
       "      <th>5</th>\n",
       "      <td>The Lord of the Rings: The Return of the King</td>\n",
       "      <td>Peter Jackson</td>\n",
       "      <td>9.0</td>\n",
       "      <td>Fantasy</td>\n",
       "    </tr>\n",
       "    <tr>\n",
       "      <th>11</th>\n",
       "      <td>Seven</td>\n",
       "      <td>David Fincher</td>\n",
       "      <td>8.6</td>\n",
       "      <td>Crime</td>\n",
       "    </tr>\n",
       "    <tr>\n",
       "      <th>12</th>\n",
       "      <td>The Green Mile</td>\n",
       "      <td>Frank Darabont</td>\n",
       "      <td>8.6</td>\n",
       "      <td>Mystery</td>\n",
       "    </tr>\n",
       "    <tr>\n",
       "      <th>8</th>\n",
       "      <td>The Godfather</td>\n",
       "      <td>Francis Ford Coppola</td>\n",
       "      <td>9.2</td>\n",
       "      <td>Gangster</td>\n",
       "    </tr>\n",
       "    <tr>\n",
       "      <th>9</th>\n",
       "      <td>The Matrix</td>\n",
       "      <td>Lana Wachowski</td>\n",
       "      <td>8.7</td>\n",
       "      <td>Sci-Fi</td>\n",
       "    </tr>\n",
       "    <tr>\n",
       "      <th>11</th>\n",
       "      <td>Seven</td>\n",
       "      <td>David Fincher</td>\n",
       "      <td>8.6</td>\n",
       "      <td>Crime</td>\n",
       "    </tr>\n",
       "    <tr>\n",
       "      <th>5</th>\n",
       "      <td>The Lord of the Rings: The Return of the King</td>\n",
       "      <td>Peter Jackson</td>\n",
       "      <td>9.0</td>\n",
       "      <td>Fantasy</td>\n",
       "    </tr>\n",
       "    <tr>\n",
       "      <th>15</th>\n",
       "      <td>Murder on the Orient Express</td>\n",
       "      <td>Kenneth Branagh</td>\n",
       "      <td>6.5</td>\n",
       "      <td>Thriller</td>\n",
       "    </tr>\n",
       "    <tr>\n",
       "      <th>0</th>\n",
       "      <td>The Lord of The Rings</td>\n",
       "      <td>Peter Jackson</td>\n",
       "      <td>8.9</td>\n",
       "      <td>Fantasy</td>\n",
       "    </tr>\n",
       "    <tr>\n",
       "      <th>16</th>\n",
       "      <td>V For Vendetta</td>\n",
       "      <td>James McTeigue</td>\n",
       "      <td>8.1</td>\n",
       "      <td>Sci-Fi</td>\n",
       "    </tr>\n",
       "  </tbody>\n",
       "</table>\n",
       "</div>"
      ],
      "text/plain": [
       "                                            movie              director  \\\n",
       "5   The Lord of the Rings: The Return of the King         Peter Jackson   \n",
       "11                                          Seven         David Fincher   \n",
       "12                                 The Green Mile        Frank Darabont   \n",
       "8                                   The Godfather  Francis Ford Coppola   \n",
       "9                                      The Matrix        Lana Wachowski   \n",
       "11                                          Seven         David Fincher   \n",
       "5   The Lord of the Rings: The Return of the King         Peter Jackson   \n",
       "15                   Murder on the Orient Express       Kenneth Branagh   \n",
       "0                           The Lord of The Rings         Peter Jackson   \n",
       "16                                 V For Vendetta        James McTeigue   \n",
       "\n",
       "    rating     genre  \n",
       "5      9.0   Fantasy  \n",
       "11     8.6     Crime  \n",
       "12     8.6   Mystery  \n",
       "8      9.2  Gangster  \n",
       "9      8.7    Sci-Fi  \n",
       "11     8.6     Crime  \n",
       "5      9.0   Fantasy  \n",
       "15     6.5  Thriller  \n",
       "0      8.9   Fantasy  \n",
       "16     8.1    Sci-Fi  "
      ]
     },
     "execution_count": 82,
     "metadata": {},
     "output_type": "execute_result"
    }
   ],
   "source": [
    "df_new = df.sample(frac=0.5, replace=True, random_state=1)\n",
    "df_new"
   ]
  },
  {
   "cell_type": "markdown",
   "id": "d5be0bcf-4e14-44ad-a3a2-1d8264e58be5",
   "metadata": {},
   "source": [
    "\"With replacement\" means that after an element is selected from the DataFrame, it is returned to the pool of available elements before the next selection. This allows the same element to be chosen more than once in the sample."
   ]
  },
  {
   "cell_type": "markdown",
   "id": "1eeedacb-0ada-4fde-9255-bd4d9d82ca44",
   "metadata": {},
   "source": [
    "#### RENAME()\n",
    "_Syntax: DataFrame.rename(mapper=None, *, index=None, columns=None, axis=None, copy=None, inplace=False, level=None, errors='ignore')_<br><br>We use this method to rename columns or index labels. "
   ]
  },
  {
   "cell_type": "code",
   "execution_count": 83,
   "id": "a33eae8d-bc60-4274-b106-704a8f964140",
   "metadata": {},
   "outputs": [
    {
     "data": {
      "text/html": [
       "<div>\n",
       "<style scoped>\n",
       "    .dataframe tbody tr th:only-of-type {\n",
       "        vertical-align: middle;\n",
       "    }\n",
       "\n",
       "    .dataframe tbody tr th {\n",
       "        vertical-align: top;\n",
       "    }\n",
       "\n",
       "    .dataframe thead th {\n",
       "        text-align: right;\n",
       "    }\n",
       "</style>\n",
       "<table border=\"1\" class=\"dataframe\">\n",
       "  <thead>\n",
       "    <tr style=\"text-align: right;\">\n",
       "      <th></th>\n",
       "      <th>film</th>\n",
       "      <th>director</th>\n",
       "      <th>rating</th>\n",
       "      <th>genre</th>\n",
       "    </tr>\n",
       "  </thead>\n",
       "  <tbody>\n",
       "    <tr>\n",
       "      <th>0</th>\n",
       "      <td>The Lord of The Rings</td>\n",
       "      <td>Peter Jackson</td>\n",
       "      <td>8.9</td>\n",
       "      <td>Fantasy</td>\n",
       "    </tr>\n",
       "    <tr>\n",
       "      <th>1</th>\n",
       "      <td>The Shawshank Redemption</td>\n",
       "      <td>Frank Darabont</td>\n",
       "      <td>9.3</td>\n",
       "      <td>Drama</td>\n",
       "    </tr>\n",
       "    <tr>\n",
       "      <th>2</th>\n",
       "      <td>Gladiator</td>\n",
       "      <td>Ridley Scott</td>\n",
       "      <td>8.5</td>\n",
       "      <td>Action</td>\n",
       "    </tr>\n",
       "  </tbody>\n",
       "</table>\n",
       "</div>"
      ],
      "text/plain": [
       "                       film        director  rating    genre\n",
       "0     The Lord of The Rings   Peter Jackson     8.9  Fantasy\n",
       "1  The Shawshank Redemption  Frank Darabont     9.3    Drama\n",
       "2                 Gladiator    Ridley Scott     8.5   Action"
      ]
     },
     "execution_count": 83,
     "metadata": {},
     "output_type": "execute_result"
    }
   ],
   "source": [
    "# Renaming a column\n",
    "df_new = df.rename(columns={'movie': 'film'})\n",
    "df_new.head(3)"
   ]
  },
  {
   "cell_type": "code",
   "execution_count": 84,
   "id": "ca6c5da8-9364-4005-af18-dae7d98019d4",
   "metadata": {},
   "outputs": [
    {
     "data": {
      "text/html": [
       "<div>\n",
       "<style scoped>\n",
       "    .dataframe tbody tr th:only-of-type {\n",
       "        vertical-align: middle;\n",
       "    }\n",
       "\n",
       "    .dataframe tbody tr th {\n",
       "        vertical-align: top;\n",
       "    }\n",
       "\n",
       "    .dataframe thead th {\n",
       "        text-align: right;\n",
       "    }\n",
       "</style>\n",
       "<table border=\"1\" class=\"dataframe\">\n",
       "  <thead>\n",
       "    <tr style=\"text-align: right;\">\n",
       "      <th></th>\n",
       "      <th>movie</th>\n",
       "      <th>director</th>\n",
       "      <th>rating</th>\n",
       "      <th>genre</th>\n",
       "    </tr>\n",
       "  </thead>\n",
       "  <tbody>\n",
       "    <tr>\n",
       "      <th>zero</th>\n",
       "      <td>The Lord of The Rings</td>\n",
       "      <td>Peter Jackson</td>\n",
       "      <td>8.9</td>\n",
       "      <td>Fantasy</td>\n",
       "    </tr>\n",
       "    <tr>\n",
       "      <th>one</th>\n",
       "      <td>The Shawshank Redemption</td>\n",
       "      <td>Frank Darabont</td>\n",
       "      <td>9.3</td>\n",
       "      <td>Drama</td>\n",
       "    </tr>\n",
       "    <tr>\n",
       "      <th>two</th>\n",
       "      <td>Gladiator</td>\n",
       "      <td>Ridley Scott</td>\n",
       "      <td>8.5</td>\n",
       "      <td>Action</td>\n",
       "    </tr>\n",
       "  </tbody>\n",
       "</table>\n",
       "</div>"
      ],
      "text/plain": [
       "                         movie        director  rating    genre\n",
       "zero     The Lord of The Rings   Peter Jackson     8.9  Fantasy\n",
       "one   The Shawshank Redemption  Frank Darabont     9.3    Drama\n",
       "two                  Gladiator    Ridley Scott     8.5   Action"
      ]
     },
     "execution_count": 84,
     "metadata": {},
     "output_type": "execute_result"
    }
   ],
   "source": [
    "# Renaming an index\n",
    "df_new = df.rename(index={0:\"zero\", 1:\"one\", 2:\"two\"})\n",
    "df_new.head(3)"
   ]
  },
  {
   "cell_type": "markdown",
   "id": "81faf5f0-d39f-46cf-9da7-41fc0a819389",
   "metadata": {},
   "source": [
    "#### TOLIST()\n",
    "Let's see how we can get a list of a specified column of a DataFrame using the ```tolist()``` method.<br>We're going to try and get a list of the ```'genre'``` column:"
   ]
  },
  {
   "cell_type": "code",
   "execution_count": 85,
   "id": "df6ab5f2-2bb8-463d-b67d-711b0a298148",
   "metadata": {},
   "outputs": [
    {
     "name": "stdout",
     "output_type": "stream",
     "text": [
      "['Fantasy', 'Drama', 'Action', 'Comedy', 'Romance', 'Fantasy', 'Thriller', 'Crime', 'Gangster', 'Sci-Fi', 'Biography', 'Crime', 'Mystery', 'Sci-Fi', 'Drama', 'Thriller', 'Sci-Fi', 'Romance', 'Crime', 'Comedy']\n"
     ]
    }
   ],
   "source": [
    "genre_list = df['genre'].tolist()\n",
    "print(genre_list)"
   ]
  },
  {
   "cell_type": "markdown",
   "id": "b9ede9ed-1dcc-4955-9e0e-efb51da499cb",
   "metadata": {},
   "source": [
    "This concludes the first part of \"The Full Guide to Pandas: The Basics.\" A second part of this series will follow, after which we will delve into more advanced concepts. You can contact me via [Email](sania.latifia@gmail.com) for further questions and/or feedback! Thank you for your engagement. "
   ]
  }
 ],
 "metadata": {
  "kernelspec": {
   "display_name": "Python 3 (ipykernel)",
   "language": "python",
   "name": "python3"
  },
  "language_info": {
   "codemirror_mode": {
    "name": "ipython",
    "version": 3
   },
   "file_extension": ".py",
   "mimetype": "text/x-python",
   "name": "python",
   "nbconvert_exporter": "python",
   "pygments_lexer": "ipython3",
   "version": "3.12.4"
  }
 },
 "nbformat": 4,
 "nbformat_minor": 5
}
